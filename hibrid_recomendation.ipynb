{
  "nbformat": 4,
  "nbformat_minor": 5,
  "metadata": {
    "language_info": {
      "name": "python",
      "version": "3.7.8",
      "mimetype": "text/x-python",
      "codemirror_mode": {
        "name": "ipython",
        "version": 3
      },
      "pygments_lexer": "ipython3",
      "nbconvert_exporter": "python",
      "file_extension": ".py"
    },
    "kernelspec": {
      "name": "python3",
      "display_name": "Python 3",
      "language": "python"
    },
    "colab": {
      "name": "Untitled (4) (3) (3).ipynb",
      "provenance": []
    }
  },
  "cells": [
    {
      "cell_type": "code",
      "metadata": {
        "trusted": true,
        "colab": {
          "base_uri": "https://localhost:8080/"
        },
        "id": "3DDBnAubK_sC",
        "outputId": "fc45b9f4-2194-4210-bed3-a47395c28460"
      },
      "source": [
        "pip install surprise"
      ],
      "id": "3DDBnAubK_sC",
      "execution_count": 1,
      "outputs": [
        {
          "output_type": "stream",
          "text": [
            "Collecting surprise\n",
            "  Downloading https://files.pythonhosted.org/packages/61/de/e5cba8682201fcf9c3719a6fdda95693468ed061945493dea2dd37c5618b/surprise-0.1-py2.py3-none-any.whl\n",
            "Collecting scikit-surprise\n",
            "\u001b[?25l  Downloading https://files.pythonhosted.org/packages/97/37/5d334adaf5ddd65da99fc65f6507e0e4599d092ba048f4302fe8775619e8/scikit-surprise-1.1.1.tar.gz (11.8MB)\n",
            "\u001b[K     |████████████████████████████████| 11.8MB 206kB/s \n",
            "\u001b[?25hRequirement already satisfied: joblib>=0.11 in /usr/local/lib/python3.7/dist-packages (from scikit-surprise->surprise) (1.0.1)\n",
            "Requirement already satisfied: numpy>=1.11.2 in /usr/local/lib/python3.7/dist-packages (from scikit-surprise->surprise) (1.19.5)\n",
            "Requirement already satisfied: scipy>=1.0.0 in /usr/local/lib/python3.7/dist-packages (from scikit-surprise->surprise) (1.4.1)\n",
            "Requirement already satisfied: six>=1.10.0 in /usr/local/lib/python3.7/dist-packages (from scikit-surprise->surprise) (1.15.0)\n",
            "Building wheels for collected packages: scikit-surprise\n",
            "  Building wheel for scikit-surprise (setup.py) ... \u001b[?25l\u001b[?25hdone\n",
            "  Created wheel for scikit-surprise: filename=scikit_surprise-1.1.1-cp37-cp37m-linux_x86_64.whl size=1617629 sha256=c56accdbd0545e28312597e466f0a0a7e28cc103584e2eae4b2a4274734bdee5\n",
            "  Stored in directory: /root/.cache/pip/wheels/78/9c/3d/41b419c9d2aff5b6e2b4c0fc8d25c538202834058f9ed110d0\n",
            "Successfully built scikit-surprise\n",
            "Installing collected packages: scikit-surprise, surprise\n",
            "Successfully installed scikit-surprise-1.1.1 surprise-0.1\n"
          ],
          "name": "stdout"
        }
      ]
    },
    {
      "cell_type": "code",
      "metadata": {
        "trusted": true,
        "id": "6DhO422qK_sD"
      },
      "source": [
        "from surprise import Dataset\n",
        "from surprise.model_selection import train_test_split\n",
        "from surprise import NMF, SlopeOne#NMF-Алгоритм совместной фильтрации, основанный на неотрицательной матричной факторизации, SlopeOne-Простой, но точный алгоритм совместной фильтрации.\n",
        "from surprise import accuracy\n",
        "from surprise import Reader"
      ],
      "id": "6DhO422qK_sD",
      "execution_count": 55,
      "outputs": []
    },
    {
      "cell_type": "code",
      "metadata": {
        "trusted": true,
        "id": "H5WpLpDnK_sD"
      },
      "source": [
        "import pandas as pd\n",
        "movies = pd.read_csv('movies.csv')\n",
        "movies = movies[:1000]\n",
        "ratings = pd.read_csv('ratings.csv')\n",
        "ratings = ratings[:1000]"
      ],
      "id": "H5WpLpDnK_sD",
      "execution_count": 56,
      "outputs": []
    },
    {
      "cell_type": "code",
      "metadata": {
        "trusted": true,
        "colab": {
          "base_uri": "https://localhost:8080/",
          "height": 202
        },
        "id": "CL5TJ0OEK_sE",
        "outputId": "dd0b82ef-83cb-4769-a8cd-9dd14c95fab8"
      },
      "source": [
        "data = movies.join(ratings.set_index('movieId'), on='movieId').reset_index(drop=True)\n",
        "data.dropna(inplace=True)\n",
        "data.head()"
      ],
      "id": "CL5TJ0OEK_sE",
      "execution_count": 57,
      "outputs": [
        {
          "output_type": "execute_result",
          "data": {
            "text/html": [
              "<div>\n",
              "<style scoped>\n",
              "    .dataframe tbody tr th:only-of-type {\n",
              "        vertical-align: middle;\n",
              "    }\n",
              "\n",
              "    .dataframe tbody tr th {\n",
              "        vertical-align: top;\n",
              "    }\n",
              "\n",
              "    .dataframe thead th {\n",
              "        text-align: right;\n",
              "    }\n",
              "</style>\n",
              "<table border=\"1\" class=\"dataframe\">\n",
              "  <thead>\n",
              "    <tr style=\"text-align: right;\">\n",
              "      <th></th>\n",
              "      <th>movieId</th>\n",
              "      <th>title</th>\n",
              "      <th>genres</th>\n",
              "      <th>userId</th>\n",
              "      <th>rating</th>\n",
              "      <th>timestamp</th>\n",
              "    </tr>\n",
              "  </thead>\n",
              "  <tbody>\n",
              "    <tr>\n",
              "      <th>0</th>\n",
              "      <td>1</td>\n",
              "      <td>Toy Story (1995)</td>\n",
              "      <td>Adventure|Animation|Children|Comedy|Fantasy</td>\n",
              "      <td>4.0</td>\n",
              "      <td>4.0</td>\n",
              "      <td>1.113766e+09</td>\n",
              "    </tr>\n",
              "    <tr>\n",
              "      <th>1</th>\n",
              "      <td>1</td>\n",
              "      <td>Toy Story (1995)</td>\n",
              "      <td>Adventure|Animation|Children|Comedy|Fantasy</td>\n",
              "      <td>10.0</td>\n",
              "      <td>5.0</td>\n",
              "      <td>9.488858e+08</td>\n",
              "    </tr>\n",
              "    <tr>\n",
              "      <th>2</th>\n",
              "      <td>2</td>\n",
              "      <td>Jumanji (1995)</td>\n",
              "      <td>Adventure|Children|Fantasy</td>\n",
              "      <td>4.0</td>\n",
              "      <td>4.0</td>\n",
              "      <td>1.113767e+09</td>\n",
              "    </tr>\n",
              "    <tr>\n",
              "      <th>3</th>\n",
              "      <td>3</td>\n",
              "      <td>Grumpier Old Men (1995)</td>\n",
              "      <td>Comedy|Romance</td>\n",
              "      <td>8.0</td>\n",
              "      <td>3.0</td>\n",
              "      <td>8.582693e+08</td>\n",
              "    </tr>\n",
              "    <tr>\n",
              "      <th>5</th>\n",
              "      <td>5</td>\n",
              "      <td>Father of the Bride Part II (1995)</td>\n",
              "      <td>Comedy</td>\n",
              "      <td>4.0</td>\n",
              "      <td>2.0</td>\n",
              "      <td>1.123990e+09</td>\n",
              "    </tr>\n",
              "  </tbody>\n",
              "</table>\n",
              "</div>"
            ],
            "text/plain": [
              "   movieId                               title  ... rating     timestamp\n",
              "0        1                    Toy Story (1995)  ...    4.0  1.113766e+09\n",
              "1        1                    Toy Story (1995)  ...    5.0  9.488858e+08\n",
              "2        2                      Jumanji (1995)  ...    4.0  1.113767e+09\n",
              "3        3             Grumpier Old Men (1995)  ...    3.0  8.582693e+08\n",
              "5        5  Father of the Bride Part II (1995)  ...    2.0  1.123990e+09\n",
              "\n",
              "[5 rows x 6 columns]"
            ]
          },
          "metadata": {
            "tags": []
          },
          "execution_count": 57
        }
      ]
    },
    {
      "cell_type": "code",
      "metadata": {
        "trusted": true,
        "id": "A5dBT4n3K_sE"
      },
      "source": [
        "dataset = pd.DataFrame({\n",
        "    'title': data.title,\n",
        "    'userId': data.userId,\n",
        "    'rating': data.rating\n",
        "})"
      ],
      "id": "A5dBT4n3K_sE",
      "execution_count": 58,
      "outputs": []
    },
    {
      "cell_type": "code",
      "metadata": {
        "trusted": true,
        "id": "eDt1cF9HK_sE"
      },
      "source": [
        "reader= Reader(rating_scale=(0.5, 5.0))\n",
        "data_surprise = Dataset.load_from_df(dataset, reader)"
      ],
      "id": "eDt1cF9HK_sE",
      "execution_count": 59,
      "outputs": []
    },
    {
      "cell_type": "code",
      "metadata": {
        "trusted": true,
        "id": "25ekgdO9K_sF"
      },
      "source": [
        "trainset, testset = train_test_split(data_surprise, test_size=0.2)"
      ],
      "id": "25ekgdO9K_sF",
      "execution_count": 60,
      "outputs": []
    },
    {
      "cell_type": "code",
      "metadata": {
        "trusted": true,
        "colab": {
          "base_uri": "https://localhost:8080/"
        },
        "id": "NHoi2c2VK_sF",
        "outputId": "4eb2ff4b-8edd-4fe2-8a1a-366ccc8a4d96"
      },
      "source": [
        "algo = NMF(n_factors=20, n_epochs=20)\n",
        "algo.fit(trainset)\n",
        "test_pred = algo.test(testset)\n",
        "accuracy.rmse(test_pred, verbose=True)"
      ],
      "id": "NHoi2c2VK_sF",
      "execution_count": 61,
      "outputs": [
        {
          "output_type": "stream",
          "text": [
            "RMSE: 1.0289\n"
          ],
          "name": "stdout"
        },
        {
          "output_type": "execute_result",
          "data": {
            "text/plain": [
              "1.0288551966903376"
            ]
          },
          "metadata": {
            "tags": []
          },
          "execution_count": 61
        }
      ]
    },
    {
      "cell_type": "code",
      "metadata": {
        "trusted": true,
        "colab": {
          "base_uri": "https://localhost:8080/"
        },
        "id": "XIVm785QK_sF",
        "outputId": "e6921d59-fd07-4821-ce45-ab4730a8b570"
      },
      "source": [
        "from surprise import KNNWithMeans\n",
        "algo2 = KNNWithMeans(k=10)\n",
        "algo2.fit(trainset)\n",
        "test_pred = algo2.test(testset)\n",
        "accuracy.rmse(test_pred)"
      ],
      "id": "XIVm785QK_sF",
      "execution_count": 62,
      "outputs": [
        {
          "output_type": "stream",
          "text": [
            "Computing the msd similarity matrix...\n",
            "Done computing similarity matrix.\n",
            "RMSE: 0.9978\n"
          ],
          "name": "stdout"
        },
        {
          "output_type": "execute_result",
          "data": {
            "text/plain": [
              "0.9978255310993295"
            ]
          },
          "metadata": {
            "tags": []
          },
          "execution_count": 62
        }
      ]
    },
    {
      "cell_type": "code",
      "metadata": {
        "trusted": true,
        "colab": {
          "base_uri": "https://localhost:8080/"
        },
        "id": "y17HPOhfK_sG",
        "outputId": "9e4c5b5a-cdf1-4f23-ff27-c9daa9cb596c"
      },
      "source": [
        "algo.predict(uid=4.0, iid='Toy Story (1995)').est"
      ],
      "id": "y17HPOhfK_sG",
      "execution_count": 63,
      "outputs": [
        {
          "output_type": "execute_result",
          "data": {
            "text/plain": [
              "3.4285714285714284"
            ]
          },
          "metadata": {
            "tags": []
          },
          "execution_count": 63
        }
      ]
    },
    {
      "cell_type": "code",
      "metadata": {
        "trusted": true,
        "colab": {
          "base_uri": "https://localhost:8080/"
        },
        "id": "uVvUFwHAK_sG",
        "outputId": "ffdad5ab-e93e-4df5-842d-707fa93b6d24"
      },
      "source": [
        "algo2.predict(uid=4.0, iid='Toy Story (1995)').est"
      ],
      "id": "uVvUFwHAK_sG",
      "execution_count": 64,
      "outputs": [
        {
          "output_type": "execute_result",
          "data": {
            "text/plain": [
              "3.4285714285714284"
            ]
          },
          "metadata": {
            "tags": []
          },
          "execution_count": 64
        }
      ]
    },
    {
      "cell_type": "code",
      "metadata": {
        "trusted": true,
        "id": "NBqMU2cAK_sG"
      },
      "source": [
        "current_user_id = 4.0\n",
        "user_movies = data[data.userId == current_user_id].title.unique()\n",
        "\n",
        "scores = []\n",
        "titles = []\n",
        "\n",
        "for movie in data.title.unique():\n",
        "    if movie in user_movies:\n",
        "        continue\n",
        "        \n",
        "    scores.append(algo.predict(uid=current_user_id, iid=movie).est)\n",
        "    titles.append(movie)"
      ],
      "id": "NBqMU2cAK_sG",
      "execution_count": 65,
      "outputs": []
    },
    {
      "cell_type": "code",
      "metadata": {
        "trusted": true,
        "colab": {
          "base_uri": "https://localhost:8080/"
        },
        "id": "8dVPMZG0K_sH",
        "outputId": "391a4db1-5dcc-4169-e2b8-b3ab97efc90f"
      },
      "source": [
        "sorted(scores)[-10:]"
      ],
      "id": "8dVPMZG0K_sH",
      "execution_count": 66,
      "outputs": [
        {
          "output_type": "execute_result",
          "data": {
            "text/plain": [
              "[3.4285714285714284,\n",
              " 3.4285714285714284,\n",
              " 3.4285714285714284,\n",
              " 3.4285714285714284,\n",
              " 3.4285714285714284,\n",
              " 3.4285714285714284,\n",
              " 3.4285714285714284,\n",
              " 3.4285714285714284,\n",
              " 3.4285714285714284,\n",
              " 3.4285714285714284]"
            ]
          },
          "metadata": {
            "tags": []
          },
          "execution_count": 66
        }
      ]
    },
    {
      "cell_type": "code",
      "metadata": {
        "trusted": true,
        "id": "jnWDWZlMK_sH"
      },
      "source": [
        "def change_string(s):\n",
        "    return ' '.join(s.replace(' ', '').replace('-', '').split('|'))"
      ],
      "id": "jnWDWZlMK_sH",
      "execution_count": 67,
      "outputs": []
    },
    {
      "cell_type": "code",
      "metadata": {
        "trusted": true,
        "id": "d8u-lXjDK_sH"
      },
      "source": [
        "movie_genres = [change_string(g) for g in movies.genres.values]"
      ],
      "id": "d8u-lXjDK_sH",
      "execution_count": 68,
      "outputs": []
    },
    {
      "cell_type": "code",
      "metadata": {
        "trusted": true,
        "colab": {
          "base_uri": "https://localhost:8080/",
          "height": 35
        },
        "id": "qDesYf63K_sH",
        "outputId": "56fd27bd-1068-437f-873d-b24b906ef3a2"
      },
      "source": [
        "movie_genres[1]"
      ],
      "id": "qDesYf63K_sH",
      "execution_count": 69,
      "outputs": [
        {
          "output_type": "execute_result",
          "data": {
            "application/vnd.google.colaboratory.intrinsic+json": {
              "type": "string"
            },
            "text/plain": [
              "'Adventure Children Fantasy'"
            ]
          },
          "metadata": {
            "tags": []
          },
          "execution_count": 69
        }
      ]
    },
    {
      "cell_type": "code",
      "metadata": {
        "trusted": true,
        "colab": {
          "base_uri": "https://localhost:8080/"
        },
        "id": "DqzOtWwrK_sH",
        "outputId": "f7be3967-5cfc-4adc-8371-678dfdf9dde9"
      },
      "source": [
        "pip install --upgrade scikit-learn"
      ],
      "id": "DqzOtWwrK_sH",
      "execution_count": 70,
      "outputs": [
        {
          "output_type": "stream",
          "text": [
            "Requirement already up-to-date: scikit-learn in /usr/local/lib/python3.7/dist-packages (0.24.2)\n",
            "Requirement already satisfied, skipping upgrade: threadpoolctl>=2.0.0 in /usr/local/lib/python3.7/dist-packages (from scikit-learn) (2.2.0)\n",
            "Requirement already satisfied, skipping upgrade: numpy>=1.13.3 in /usr/local/lib/python3.7/dist-packages (from scikit-learn) (1.19.5)\n",
            "Requirement already satisfied, skipping upgrade: joblib>=0.11 in /usr/local/lib/python3.7/dist-packages (from scikit-learn) (1.0.1)\n",
            "Requirement already satisfied, skipping upgrade: scipy>=0.19.1 in /usr/local/lib/python3.7/dist-packages (from scikit-learn) (1.4.1)\n"
          ],
          "name": "stdout"
        }
      ]
    },
    {
      "cell_type": "code",
      "metadata": {
        "id": "1Y7Y-RbeWrlO"
      },
      "source": [
        "from sklearn.neighbors import KDTree\n",
        "from sklearn.neighbors import NearestNeighbors\n",
        "\n",
        "count_vect = CountVectorizer()\n",
        "X_train_counts = count_vect.fit_transform(movie_genres)\n",
        "\n",
        "tfidf_transformer = TfidfTransformer()\n",
        "X_train_tfidf = tfidf_transformer.fit_transform(X_train_counts)\n",
        "\n",
        "tree  = KDTree(X_train_tfidf.toarray()) "
      ],
      "id": "1Y7Y-RbeWrlO",
      "execution_count": 73,
      "outputs": []
    },
    {
      "cell_type": "code",
      "metadata": {
        "id": "n1nF1R-7ZiJd"
      },
      "source": [
        "test = change_string(\"Adventure|Comedy|Fantasy|Crime\")\n",
        "\n",
        "predict = count_vect.transform([test])\n",
        "X_tfidf2 = tfidf_transformer.transform(predict)\n",
        "\n",
        "dist, ind = tree.query(X_train_tfidf.toarray()[:1], k=3) \n",
        "print(ind) #ближайшие соседи\n",
        "print(dist) #расстояние"
      ],
      "id": "n1nF1R-7ZiJd",
      "execution_count": null,
      "outputs": []
    },
    {
      "cell_type": "code",
      "metadata": {
        "colab": {
          "base_uri": "https://localhost:8080/",
          "height": 141
        },
        "id": "ttmgNXBDBRrh",
        "outputId": "e8542f37-419a-4e4e-9fb8-64bd1b3b33fb"
      },
      "source": [
        "movies.iloc[ind[0]]"
      ],
      "id": "ttmgNXBDBRrh",
      "execution_count": 85,
      "outputs": [
        {
          "output_type": "execute_result",
          "data": {
            "text/html": [
              "<div>\n",
              "<style scoped>\n",
              "    .dataframe tbody tr th:only-of-type {\n",
              "        vertical-align: middle;\n",
              "    }\n",
              "\n",
              "    .dataframe tbody tr th {\n",
              "        vertical-align: top;\n",
              "    }\n",
              "\n",
              "    .dataframe thead th {\n",
              "        text-align: right;\n",
              "    }\n",
              "</style>\n",
              "<table border=\"1\" class=\"dataframe\">\n",
              "  <thead>\n",
              "    <tr style=\"text-align: right;\">\n",
              "      <th></th>\n",
              "      <th>movieId</th>\n",
              "      <th>title</th>\n",
              "      <th>genres</th>\n",
              "    </tr>\n",
              "  </thead>\n",
              "  <tbody>\n",
              "    <tr>\n",
              "      <th>0</th>\n",
              "      <td>1</td>\n",
              "      <td>Toy Story (1995)</td>\n",
              "      <td>Adventure|Animation|Children|Comedy|Fantasy</td>\n",
              "    </tr>\n",
              "    <tr>\n",
              "      <th>553</th>\n",
              "      <td>558</td>\n",
              "      <td>Pagemaster, The (1994)</td>\n",
              "      <td>Action|Adventure|Animation|Children|Fantasy</td>\n",
              "    </tr>\n",
              "    <tr>\n",
              "      <th>664</th>\n",
              "      <td>673</td>\n",
              "      <td>Space Jam (1996)</td>\n",
              "      <td>Adventure|Animation|Children|Comedy|Fantasy|Sc...</td>\n",
              "    </tr>\n",
              "  </tbody>\n",
              "</table>\n",
              "</div>"
            ],
            "text/plain": [
              "     movieId  ...                                             genres\n",
              "0          1  ...        Adventure|Animation|Children|Comedy|Fantasy\n",
              "553      558  ...        Action|Adventure|Animation|Children|Fantasy\n",
              "664      673  ...  Adventure|Animation|Children|Comedy|Fantasy|Sc...\n",
              "\n",
              "[3 rows x 3 columns]"
            ]
          },
          "metadata": {
            "tags": []
          },
          "execution_count": 85
        }
      ]
    },
    {
      "cell_type": "code",
      "metadata": {
        "id": "ofMXS4FHDL-B"
      },
      "source": [
        "data.sort_values('timestamp', inplace=True)"
      ],
      "id": "ofMXS4FHDL-B",
      "execution_count": 87,
      "outputs": []
    },
    {
      "cell_type": "code",
      "metadata": {
        "id": "1IqVBCm-ESep"
      },
      "source": [
        "title_genres = {}\n",
        "\n",
        "for index, row in movies.iterrows():\n",
        "    title_genres[row.title] = row.genres"
      ],
      "id": "1IqVBCm-ESep",
      "execution_count": 91,
      "outputs": []
    },
    {
      "cell_type": "code",
      "metadata": {
        "id": "o5yMhEiKEYKA"
      },
      "source": [
        "import numpy as np\n",
        "def recommend_for_user(user_id):\n",
        "    current_user_id = user_id\n",
        "    user_movies = data[data.userId == current_user_id].title.unique()\n",
        "    \n",
        "    last_user_movie = user_movies[-1]\n",
        "    \n",
        "    movie_genres = title_genres[last_user_movie]\n",
        "    \n",
        "    movie_genres = change_string(movie_genres)\n",
        "\n",
        "    predict = count_vect.transform([movie_genres])\n",
        "    X_tfidf2 = tfidf_transformer.transform(predict)\n",
        "\n",
        "    res = KDTree(X_tfidf2.toarray())\n",
        "    \n",
        "    movies_to_score = movies.iloc[ind[0]].title.values\n",
        "\n",
        "    scores = []\n",
        "    titles = []\n",
        "\n",
        "    for movie in movies_to_score:\n",
        "        if movie in user_movies:\n",
        "            continue\n",
        "\n",
        "        scores.append(algo.predict(uid=current_user_id, iid=movie).est)\n",
        "        titles.append(movie)\n",
        "        \n",
        "    \n",
        "    best_indexes = np.argsort(scores)[-10:]\n",
        "    for i in reversed(best_indexes):\n",
        "        print(titles[i], scores[i])"
      ],
      "id": "o5yMhEiKEYKA",
      "execution_count": 111,
      "outputs": []
    },
    {
      "cell_type": "code",
      "metadata": {
        "colab": {
          "base_uri": "https://localhost:8080/",
          "height": 110
        },
        "id": "gGBLpZHJFP5x",
        "outputId": "09bbd580-3743-41ff-a84a-3c6e4756cbde"
      },
      "source": [
        "data[data.userId == 2.0].sort_values('rating')"
      ],
      "id": "gGBLpZHJFP5x",
      "execution_count": 112,
      "outputs": [
        {
          "output_type": "execute_result",
          "data": {
            "text/html": [
              "<div>\n",
              "<style scoped>\n",
              "    .dataframe tbody tr th:only-of-type {\n",
              "        vertical-align: middle;\n",
              "    }\n",
              "\n",
              "    .dataframe tbody tr th {\n",
              "        vertical-align: top;\n",
              "    }\n",
              "\n",
              "    .dataframe thead th {\n",
              "        text-align: right;\n",
              "    }\n",
              "</style>\n",
              "<table border=\"1\" class=\"dataframe\">\n",
              "  <thead>\n",
              "    <tr style=\"text-align: right;\">\n",
              "      <th></th>\n",
              "      <th>movieId</th>\n",
              "      <th>title</th>\n",
              "      <th>genres</th>\n",
              "      <th>userId</th>\n",
              "      <th>rating</th>\n",
              "      <th>timestamp</th>\n",
              "    </tr>\n",
              "  </thead>\n",
              "  <tbody>\n",
              "    <tr>\n",
              "      <th>897</th>\n",
              "      <td>849</td>\n",
              "      <td>Escape from L.A. (1996)</td>\n",
              "      <td>Action|Adventure|Sci-Fi|Thriller</td>\n",
              "      <td>2.0</td>\n",
              "      <td>3.5</td>\n",
              "      <td>1.192914e+09</td>\n",
              "    </tr>\n",
              "    <tr>\n",
              "      <th>187</th>\n",
              "      <td>170</td>\n",
              "      <td>Hackers (1995)</td>\n",
              "      <td>Action|Adventure|Crime|Thriller</td>\n",
              "      <td>2.0</td>\n",
              "      <td>3.5</td>\n",
              "      <td>1.192914e+09</td>\n",
              "    </tr>\n",
              "  </tbody>\n",
              "</table>\n",
              "</div>"
            ],
            "text/plain": [
              "     movieId                    title  ... rating     timestamp\n",
              "897      849  Escape from L.A. (1996)  ...    3.5  1.192914e+09\n",
              "187      170           Hackers (1995)  ...    3.5  1.192914e+09\n",
              "\n",
              "[2 rows x 6 columns]"
            ]
          },
          "metadata": {
            "tags": []
          },
          "execution_count": 112
        }
      ]
    },
    {
      "cell_type": "code",
      "metadata": {
        "colab": {
          "base_uri": "https://localhost:8080/"
        },
        "id": "EUU2og2tFmbo",
        "outputId": "fa07ef41-ac09-42ec-a6e2-0c0a2a1f0985"
      },
      "source": [
        "recommend_for_user(2.0)"
      ],
      "id": "EUU2og2tFmbo",
      "execution_count": 113,
      "outputs": [
        {
          "output_type": "stream",
          "text": [
            "Space Jam (1996) 3.4285714285714284\n",
            "Pagemaster, The (1994) 3.4285714285714284\n",
            "Toy Story (1995) 3.4285714285714284\n"
          ],
          "name": "stdout"
        }
      ]
    },
    {
      "cell_type": "code",
      "metadata": {
        "trusted": true,
        "id": "nUJD8L2ZK_sI"
      },
      "source": [
        "from sklearn.feature_extraction.text import TfidfTransformer, CountVectorizer\n",
        "from sklearn.linear_model import LogisticRegression\n",
        "from sklearn.tree import DecisionTreeClassifier\n",
        "from sklearn.ensemble import RandomForestClassifier\n",
        "from sklearn.ensemble import StackingClassifier \n",
        "\n",
        "count_vect = CountVectorizer()\n",
        "X_train_counts = count_vect.fit_transform(movie_genres)\n",
        "\n",
        "tfidf_transformer = TfidfTransformer()\n",
        "X_train_tfidf = tfidf_transformer.fit_transform(X_train_counts)\n",
        "\n",
        "estimators = [\n",
        "    ('lr', LogisticRegression()),\n",
        "    ('dt', DecisionTreeClassifier()),\n",
        "    ('rf', RandomForestClassifier())\n",
        "]\n",
        "\n",
        "\n",
        "clasificator = StackingClassifier(\n",
        "    estimators=estimators, \n",
        "    final_estimator=RandomForestClassifier(n_estimators=70, criterion='entropy', min_samples_leaf=2, class_weight='balanced')\n",
        ")"
      ],
      "id": "nUJD8L2ZK_sI",
      "execution_count": 47,
      "outputs": []
    },
    {
      "cell_type": "code",
      "metadata": {
        "id": "yonOvbfwK_sI",
        "colab": {
          "base_uri": "https://localhost:8080/",
          "height": 167
        },
        "outputId": "107f02b6-31cb-4cad-a683-dcd7aa6a93df"
      },
      "source": [
        "clasificator.fit(X_train_tfidf)"
      ],
      "id": "yonOvbfwK_sI",
      "execution_count": 116,
      "outputs": [
        {
          "output_type": "error",
          "ename": "TypeError",
          "evalue": "ignored",
          "traceback": [
            "\u001b[0;31m---------------------------------------------------------------------------\u001b[0m",
            "\u001b[0;31mTypeError\u001b[0m                                 Traceback (most recent call last)",
            "\u001b[0;32m<ipython-input-116-0fa47c8f6fc6>\u001b[0m in \u001b[0;36m<module>\u001b[0;34m()\u001b[0m\n\u001b[0;32m----> 1\u001b[0;31m \u001b[0mclasificator\u001b[0m\u001b[0;34m.\u001b[0m\u001b[0mfit\u001b[0m\u001b[0;34m(\u001b[0m\u001b[0mX_train_tfidf\u001b[0m\u001b[0;34m)\u001b[0m\u001b[0;34m\u001b[0m\u001b[0;34m\u001b[0m\u001b[0m\n\u001b[0m",
            "\u001b[0;31mTypeError\u001b[0m: fit() missing 1 required positional argument: 'y'"
          ]
        }
      ]
    },
    {
      "cell_type": "code",
      "metadata": {
        "id": "GGejbYXRKZA-"
      },
      "source": [
        ""
      ],
      "id": "GGejbYXRKZA-",
      "execution_count": null,
      "outputs": []
    }
  ]
}